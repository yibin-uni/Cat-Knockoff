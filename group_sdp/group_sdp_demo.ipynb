{
 "cells": [
  {
   "cell_type": "markdown",
   "metadata": {},
   "source": [
    "## SDP with group structures: A Demo"
   ]
  },
  {
   "cell_type": "code",
   "execution_count": 1,
   "metadata": {},
   "outputs": [
    {
     "name": "stdout",
     "output_type": "stream",
     "text": [
      "(CVXPY) Jul 18 12:19:22 PM: Encountered unexpected exception importing solver SCS:\n",
      "ImportError('dlopen(/Users/yibin/.local/lib/python3.7/site-packages/scs-3.2.0-py3.7-macosx-10.9-x86_64.egg/_scs_direct.cpython-37m-darwin.so, 2): Symbol not found: _aligned_alloc\\n  Referenced from: /Users/yibin/.local/lib/python3.7/site-packages/scs-3.2.0-py3.7-macosx-10.9-x86_64.egg/scs/.dylibs/libgomp.1.dylib (which was built for Mac OS X 10.15)\\n  Expected in: /usr/lib/libSystem.B.dylib\\n in /Users/yibin/.local/lib/python3.7/site-packages/scs-3.2.0-py3.7-macosx-10.9-x86_64.egg/scs/.dylibs/libgomp.1.dylib')\n"
     ]
    }
   ],
   "source": [
    "import numpy as np\n",
    "import cvxpy as cvx"
   ]
  },
  {
   "cell_type": "markdown",
   "metadata": {},
   "source": [
    "Get the data"
   ]
  },
  {
   "cell_type": "code",
   "execution_count": 2,
   "metadata": {},
   "outputs": [],
   "source": [
    "p = 100\n",
    "corrMatrix = np.random.uniform(size=(p,p))\n",
    "cat_name_to_idx = {'BsmtFinType2': [36, 37, 38, 39, 40], 'HeatingQC': [41, 42], \n",
    "'Neighborhood': [43, 44, 45, 46], 'SaleType': [47, 48, 49, 50], \n",
    "'Condition2': [51, 52], 'GarageFinish': [53, 54, 55, 56, 57], \n",
    "'LandContour': [58, 59, 60], \n",
    "'BsmtFinType1': [61, 62, 63, 64, 65, 66, 67, 68, 69, 70, 71, 72, 73, 74, 75, 76, 77, 78, 79, 80, 81, 82, 83, 84, 85]}"
   ]
  },
  {
   "cell_type": "code",
   "execution_count": 3,
   "metadata": {},
   "outputs": [
    {
     "name": "stdout",
     "output_type": "stream",
     "text": [
      "Number of variables in SDP: 58\n"
     ]
    }
   ],
   "source": [
    "# build a more conveninent data structure to encode group size information\n",
    "# group_sizes contains the number of dummy variables in each group. If a variable is numerical, then its group size = 1\n",
    "group_sizes = []\n",
    "for i in range(p):\n",
    "    # a flag that indicates if a variable is numerical or categorical\n",
    "    num = True\n",
    "    for group_indices in cat_name_to_idx.values():\n",
    "        if i == group_indices[0]:\n",
    "            num = False\n",
    "            group_sizes.append(len(group_indices))\n",
    "            break\n",
    "        elif i in group_indices:\n",
    "            num = False\n",
    "            break\n",
    "    # numerical variables\n",
    "    if num:\n",
    "        group_sizes.append(1)\n",
    "print(f'Number of variables in SDP: {len(group_sizes)}')"
   ]
  },
  {
   "cell_type": "markdown",
   "metadata": {},
   "source": [
    "Get the block-diagonal correlation matrix"
   ]
  },
  {
   "cell_type": "code",
   "execution_count": 4,
   "metadata": {},
   "outputs": [
    {
     "data": {
      "text/plain": [
       "array([[0.77648864, 0.        , 0.        , 0.        , 0.        ],\n",
       "       [0.        , 0.28971091, 0.0454747 , 0.83685529, 0.31214709],\n",
       "       [0.        , 0.58308317, 0.21929226, 0.75173261, 0.55653359],\n",
       "       [0.        , 0.41725417, 0.26926378, 0.83621019, 0.91624361],\n",
       "       [0.        , 0.88198946, 0.84179662, 0.67995362, 0.93595746]])"
      ]
     },
     "execution_count": 4,
     "metadata": {},
     "output_type": "execute_result"
    }
   ],
   "source": [
    "# define a mask matrix that helps us only keep the block-diagonal entries\n",
    "mask_mat = np.zeros((p,p))\n",
    "i = 0\n",
    "for g_size in group_sizes:\n",
    "    mask_mat[i:i+g_size,i:i+g_size] = np.ones((g_size,g_size))\n",
    "    i += g_size\n",
    "block_corr = corrMatrix * mask_mat\n",
    "block_corr[35:40,35:40]"
   ]
  },
  {
   "cell_type": "markdown",
   "metadata": {},
   "source": [
    "### Set up the SDP problem\n",
    "\n",
    "\\begin{align*}\n",
    "    \\min_{\\gamma_j}&\\, \\sum_{j=1}^m\\,(1-\\gamma_j)\\,\\|\\Sigma_{G_j,G_j}\\|_F \\\\\n",
    "    \\text{s.t.}&\\, 0\\leq \\gamma_j \\leq 1\\hspace{0.2cm}\\forall\\,j, \\\\\n",
    "    &\\,S \\preceq 2\\Sigma\n",
    "\\end{align*}"
   ]
  },
  {
   "cell_type": "code",
   "execution_count": 5,
   "metadata": {},
   "outputs": [],
   "source": [
    "m = len(group_sizes) # number of groups\n",
    "gamma = cvx.Variable(m)"
   ]
  },
  {
   "cell_type": "markdown",
   "metadata": {},
   "source": [
    "Challenge: We want to repeat each $\\gamma_j$ for $|G_j|$ times to build diag $\\{\\gamma_1\\cdot I_{G_1,G_1},\\dots, \\gamma_m\\cdot I_{G_m,G_m}\\}$ (this is `gamma_mat` in my code). I seemed to mess up NumPy objects and cvxpy objects, which are symbolic expressions. How can we do this step?\n",
    "\n",
    "An attempt to aviod *assigning numbers to part of a matrix* was that I wanted to use Kronecker product to represent diag $\\{\\gamma_1\\cdot I_{G_1,G_1},\\dots, \\gamma_m\\cdot I_{G_m,G_m}\\}$, but the group sizes $|G_j|$ are different over all $j$'s. Thus, we cannot use Kronecker product."
   ]
  },
  {
   "cell_type": "code",
   "execution_count": 8,
   "metadata": {},
   "outputs": [
    {
     "ename": "RuntimeError",
     "evalue": "\nYou're calling a NumPy function on a CVXPY expression. This is prone to causing\nerrors or code that doesn't behave as expected. Consider using one of the\nfunctions documented here: https://www.cvxpy.org/tutorial/functions/index.html\n",
     "output_type": "error",
     "traceback": [
      "\u001b[0;31m---------------------------------------------------------------------------\u001b[0m",
      "\u001b[0;31mRuntimeError\u001b[0m                              Traceback (most recent call last)",
      "\u001b[0;32m/var/folders/q1/8npgl_r55hxfmmdzhx60y0sc0000gn/T/ipykernel_51122/2079530784.py\u001b[0m in \u001b[0;36m<module>\u001b[0;34m\u001b[0m\n\u001b[1;32m      6\u001b[0m \u001b[0;32mfor\u001b[0m \u001b[0mj\u001b[0m \u001b[0;32min\u001b[0m \u001b[0mrange\u001b[0m\u001b[0;34m(\u001b[0m\u001b[0mm\u001b[0m\u001b[0;34m)\u001b[0m\u001b[0;34m:\u001b[0m\u001b[0;34m\u001b[0m\u001b[0;34m\u001b[0m\u001b[0m\n\u001b[1;32m      7\u001b[0m     \u001b[0mg_size\u001b[0m \u001b[0;34m=\u001b[0m \u001b[0mgroup_sizes\u001b[0m\u001b[0;34m[\u001b[0m\u001b[0mj\u001b[0m\u001b[0;34m]\u001b[0m\u001b[0;34m\u001b[0m\u001b[0;34m\u001b[0m\u001b[0m\n\u001b[0;32m----> 8\u001b[0;31m     \u001b[0mgamma_mat\u001b[0m\u001b[0;34m[\u001b[0m\u001b[0mi\u001b[0m\u001b[0;34m:\u001b[0m\u001b[0mi\u001b[0m\u001b[0;34m+\u001b[0m\u001b[0mg_size\u001b[0m\u001b[0;34m,\u001b[0m\u001b[0mi\u001b[0m\u001b[0;34m:\u001b[0m\u001b[0mi\u001b[0m\u001b[0;34m+\u001b[0m\u001b[0mg_size\u001b[0m\u001b[0;34m]\u001b[0m \u001b[0;34m*=\u001b[0m \u001b[0mgamma\u001b[0m\u001b[0;34m[\u001b[0m\u001b[0mj\u001b[0m\u001b[0;34m]\u001b[0m\u001b[0;34m\u001b[0m\u001b[0;34m\u001b[0m\u001b[0m\n\u001b[0m\u001b[1;32m      9\u001b[0m     \u001b[0mi\u001b[0m \u001b[0;34m+=\u001b[0m \u001b[0mg_size\u001b[0m\u001b[0;34m\u001b[0m\u001b[0;34m\u001b[0m\u001b[0m\n\u001b[1;32m     10\u001b[0m \u001b[0mS\u001b[0m \u001b[0;34m=\u001b[0m \u001b[0mgamma_mat\u001b[0m \u001b[0;34m@\u001b[0m \u001b[0mblock_corr\u001b[0m\u001b[0;34m\u001b[0m\u001b[0;34m\u001b[0m\u001b[0m\n",
      "\u001b[0;32m~/.local/lib/python3.7/site-packages/cvxpy-1.2.1-py3.7-macosx-10.9-x86_64.egg/cvxpy/expressions/expression.py\u001b[0m in \u001b[0;36m__array_ufunc__\u001b[0;34m(self, ufunc, method, *args, **kwargs)\u001b[0m\n\u001b[1;32m    719\u001b[0m             \u001b[0;32mpass\u001b[0m\u001b[0;34m\u001b[0m\u001b[0;34m\u001b[0m\u001b[0m\n\u001b[1;32m    720\u001b[0m \u001b[0;34m\u001b[0m\u001b[0m\n\u001b[0;32m--> 721\u001b[0;31m         \u001b[0;32mraise\u001b[0m \u001b[0mRuntimeError\u001b[0m\u001b[0;34m(\u001b[0m\u001b[0m__NUMPY_UFUNC_ERROR__\u001b[0m\u001b[0;34m)\u001b[0m\u001b[0;34m\u001b[0m\u001b[0;34m\u001b[0m\u001b[0m\n\u001b[0m",
      "\u001b[0;31mRuntimeError\u001b[0m: \nYou're calling a NumPy function on a CVXPY expression. This is prone to causing\nerrors or code that doesn't behave as expected. Consider using one of the\nfunctions documented here: https://www.cvxpy.org/tutorial/functions/index.html\n"
     ]
    }
   ],
   "source": [
    "# repeat each gamma_j by the number of dummy variables (a dictionary is not iterable by index)\n",
    "# should gamma_mat be a numpy array or cvxpy symbolic matrix?\n",
    "# Attempt 1\n",
    "gamma_mat = np.eye(p)\n",
    "i = 0\n",
    "for j in range(m):\n",
    "    g_size = group_sizes[j]\n",
    "    gamma_mat[i:i+g_size,i:i+g_size] *= gamma[j]\n",
    "    i += g_size\n",
    "S = gamma_mat @ block_corr\n",
    "\n",
    "# Attempt 2\n",
    "gamma_mat = cvx.Variable((p,p))\n",
    "i = 0\n",
    "for j in range(m):\n",
    "    g_size = group_sizes[j]\n",
    "    gamma_mat[i:i+g_size,i:i+g_size] = gamma[j] * np.eye(g_size)\n",
    "    i += g_size\n",
    "S = gamma_mat @ block_corr"
   ]
  },
  {
   "cell_type": "markdown",
   "metadata": {},
   "source": [
    "Set the objectives and constraints"
   ]
  },
  {
   "cell_type": "code",
   "execution_count": null,
   "metadata": {},
   "outputs": [],
   "source": [
    "# use a for loop to set up the objective\n",
    "# Note that if we use Frobenius norm SQUARED, then we don't need to use a for loop. \n",
    "# The objective then is the Frobenius norm of block_corr - S.\n",
    "objective = 0\n",
    "i = 0\n",
    "for j in range(len(group_sizes)):\n",
    "    g_size = group_sizes[j]\n",
    "    objective += (1-gamma[j]) * cvx.norm(block_corr[i:i+g_size,i:i+g_size],'fro')\n",
    "    i += g_size\n",
    "\n",
    "constraints = [0 <= gamma, gamma <= 1, S << 2*corrMatrix]"
   ]
  },
  {
   "cell_type": "markdown",
   "metadata": {},
   "source": [
    "Solve the problem"
   ]
  },
  {
   "cell_type": "code",
   "execution_count": null,
   "metadata": {},
   "outputs": [],
   "source": [
    "prob = cvx.Problem(objective,constraints)\n",
    "prob.solve()\n",
    "\n",
    "print(f'Solution: {gamma.value}')"
   ]
  }
 ],
 "metadata": {
  "kernelspec": {
   "display_name": "Python 3.7.10 ('clvr_impl')",
   "language": "python",
   "name": "python3"
  },
  "language_info": {
   "codemirror_mode": {
    "name": "ipython",
    "version": 3
   },
   "file_extension": ".py",
   "mimetype": "text/x-python",
   "name": "python",
   "nbconvert_exporter": "python",
   "pygments_lexer": "ipython3",
   "version": "3.7.10"
  },
  "orig_nbformat": 4,
  "vscode": {
   "interpreter": {
    "hash": "39e10f6c2c74eeef8b23102d9b5ca5591bb7c2a5e4e59e0ec9b3ef9baff1f044"
   }
  }
 },
 "nbformat": 4,
 "nbformat_minor": 2
}
