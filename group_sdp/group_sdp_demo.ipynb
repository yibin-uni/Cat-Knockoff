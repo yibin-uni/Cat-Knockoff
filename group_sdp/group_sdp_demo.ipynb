{
 "cells": [
  {
   "cell_type": "markdown",
   "metadata": {},
   "source": [
    "## SDP with group structures: A Demo"
   ]
  },
  {
   "cell_type": "code",
   "execution_count": 1,
   "metadata": {},
   "outputs": [
    {
     "name": "stdout",
     "output_type": "stream",
     "text": [
      "(CVXPY) Jul 27 04:19:46 PM: Encountered unexpected exception importing solver SCS:\n",
      "ImportError('dlopen(/Users/yibin/.local/lib/python3.7/site-packages/scs-3.2.0-py3.7-macosx-10.9-x86_64.egg/_scs_direct.cpython-37m-darwin.so, 2): Symbol not found: _aligned_alloc\\n  Referenced from: /Users/yibin/.local/lib/python3.7/site-packages/scs-3.2.0-py3.7-macosx-10.9-x86_64.egg/scs/.dylibs/libgomp.1.dylib (which was built for Mac OS X 10.15)\\n  Expected in: /usr/lib/libSystem.B.dylib\\n in /Users/yibin/.local/lib/python3.7/site-packages/scs-3.2.0-py3.7-macosx-10.9-x86_64.egg/scs/.dylibs/libgomp.1.dylib')\n"
     ]
    }
   ],
   "source": [
    "import numpy as np\n",
    "import cvxpy as cvx"
   ]
  },
  {
   "cell_type": "code",
   "execution_count": 2,
   "metadata": {},
   "outputs": [
    {
     "name": "stdout",
     "output_type": "stream",
     "text": [
      "The smallest eigenvalue of corrMatrix is 0.8698219203277063\n"
     ]
    }
   ],
   "source": [
    "n = 500\n",
    "p = 100\n",
    "# generate a symmetric PSD matrix for covariance matrix\n",
    "np.random.seed(0)\n",
    "data = np.random.randn(n,p)\n",
    "Sigma = data.T @ data / n\n",
    "sqrtDiagSigma = np.sqrt(np.diag(Sigma))\n",
    "scalingFactors = np.outer(sqrtDiagSigma,sqrtDiagSigma)\n",
    "corrMatrix = np.divide(Sigma, scalingFactors)\n",
    "\n",
    "print(f'The smallest eigenvalue of corrMatrix is {np.linalg.eigvals(corrMatrix)[-1]}')"
   ]
  },
  {
   "cell_type": "code",
   "execution_count": 3,
   "metadata": {},
   "outputs": [],
   "source": [
    "cat_name_to_idx = {'BsmtFinType2': [36, 37, 38, 39, 40], 'HeatingQC': [41, 42], \n",
    "'Neighborhood': [43, 44, 45, 46], 'SaleType': [47, 48, 49, 50], \n",
    "'Condition2': [51, 52], 'GarageFinish': [53, 54, 55, 56, 57], \n",
    "'LandContour': [58, 59, 60], \n",
    "'BsmtFinType1': [61, 62, 63, 64, 65, 66, 67, 68, 69, 70, 71, 72, 73, 74, 75, 76, 77, 78, 79, 80, 81, 82, 83, 84, 85]}"
   ]
  },
  {
   "cell_type": "code",
   "execution_count": 4,
   "metadata": {},
   "outputs": [
    {
     "name": "stdout",
     "output_type": "stream",
     "text": [
      "Number of variables in SDP: 58\n"
     ]
    }
   ],
   "source": [
    "# build a more conveninent data structure to encode group size information\n",
    "# group_sizes contains the numbers of dummy variables in each group. If a variable is numerical, then its group size = 1\n",
    "group_sizes = []\n",
    "for i in range(p):\n",
    "    # a flag that indicates if a variable is numerical or categorical\n",
    "    num = True\n",
    "    for group_indices in cat_name_to_idx.values():\n",
    "        if i == group_indices[0]:\n",
    "            num = False\n",
    "            group_sizes.append(len(group_indices))\n",
    "            break\n",
    "        elif i in group_indices:\n",
    "            num = False\n",
    "            break\n",
    "    # numerical variables\n",
    "    if num:\n",
    "        group_sizes.append(1)\n",
    "print(f'Number of variables in SDP: {len(group_sizes)}')"
   ]
  },
  {
   "cell_type": "markdown",
   "metadata": {},
   "source": [
    "#### Get the block-diagonal correlation matrix"
   ]
  },
  {
   "cell_type": "code",
   "execution_count": 5,
   "metadata": {},
   "outputs": [
    {
     "data": {
      "text/plain": [
       "array([[ 1.        ,  0.        ,  0.        , -0.        ,  0.        ],\n",
       "       [ 0.        ,  1.        ,  0.0523586 , -0.0273276 , -0.01457778],\n",
       "       [ 0.        ,  0.0523586 ,  1.        ,  0.05688207,  0.00165129],\n",
       "       [-0.        , -0.0273276 ,  0.05688207,  1.        ,  0.01160882],\n",
       "       [ 0.        , -0.01457778,  0.00165129,  0.01160882,  1.        ]])"
      ]
     },
     "execution_count": 5,
     "metadata": {},
     "output_type": "execute_result"
    }
   ],
   "source": [
    "# define a mask matrix that helps us only keep the block-diagonal entries\n",
    "mask_mat = np.zeros((p,p))\n",
    "i = 0\n",
    "for g_size in group_sizes:\n",
    "    mask_mat[i:i+g_size,i:i+g_size] = np.ones((g_size,g_size))\n",
    "    i += g_size\n",
    "block_corr = corrMatrix * mask_mat\n",
    "block_corr[35:40,35:40]"
   ]
  },
  {
   "cell_type": "markdown",
   "metadata": {},
   "source": [
    "### Set up the SDP problem\n",
    "\n",
    "\\begin{align*}\n",
    "    \\min_{\\gamma_j}&\\, \\sum_{j=1}^m\\,(1-\\gamma_j)\\,\\|\\Sigma_{G_j,G_j}\\|_F \\\\\n",
    "    \\text{s.t.}&\\, 0\\leq \\gamma_j \\leq 1\\hspace{0.2cm}\\forall\\,j, \\\\\n",
    "    &\\,S \\preceq 2\\Sigma\n",
    "\\end{align*}"
   ]
  },
  {
   "cell_type": "code",
   "execution_count": 6,
   "metadata": {},
   "outputs": [],
   "source": [
    "m = len(group_sizes) # number of groups\n",
    "gamma = cvx.Variable(m)"
   ]
  },
  {
   "cell_type": "markdown",
   "metadata": {},
   "source": [
    "Challenge: We want to repeat each $\\gamma_j$ for $|G_j|$ times to build diag $\\{\\gamma_1\\cdot I_{G_1,G_1},\\dots, \\gamma_m\\cdot I_{G_m,G_m}\\}$ (this is `gamma_mat` in my code). I seemed to mess up NumPy objects and cvxpy objects, which are symbolic expressions. How can we do this step? I can't assign values to a cvxpy object\n",
    "\n",
    "An attempt to aviod *assigning numbers to part of a matrix* was that I wanted to use Kronecker product to represent diag $\\{\\gamma_1\\cdot I_{G_1,G_1},\\dots, \\gamma_m\\cdot I_{G_m,G_m}\\}$, but the group sizes $|G_j|$ are different over all $j$'s. Thus, we cannot use Kronecker product."
   ]
  },
  {
   "cell_type": "markdown",
   "metadata": {},
   "source": [
    "### Challenge solved: check the code below. Just don't do value assignment on cvxpy object and use `vstack` function"
   ]
  },
  {
   "cell_type": "code",
   "execution_count": 7,
   "metadata": {},
   "outputs": [
    {
     "data": {
      "text/plain": [
       "Expression(AFFINE, UNKNOWN, (100, 1))"
      ]
     },
     "execution_count": 7,
     "metadata": {},
     "output_type": "execute_result"
    }
   ],
   "source": [
    "var_list = []\n",
    "for i in range(len(group_sizes)):\n",
    "    var_list += [gamma[i]] * group_sizes[i]\n",
    "gamma_full = cvx.vstack(var_list)\n",
    "gamma_full"
   ]
  },
  {
   "cell_type": "code",
   "execution_count": 8,
   "metadata": {},
   "outputs": [],
   "source": [
    "# define the S matrix\n",
    "S = cvx.diag(gamma_full) @ block_corr\n",
    "# define the objective\n",
    "objective = 0\n",
    "i = 0\n",
    "for j in range(len(group_sizes)):\n",
    "    g_size = group_sizes[j]\n",
    "    objective += (1-gamma[j]) * cvx.norm(block_corr[i:i+g_size, i:i+g_size],'fro')\n",
    "    i += g_size"
   ]
  },
  {
   "cell_type": "code",
   "execution_count": 9,
   "metadata": {},
   "outputs": [
    {
     "name": "stdout",
     "output_type": "stream",
     "text": [
      "Status: optimal\n",
      "Objective value: 15.552269198728547\n",
      "Solution: gamma = [0.61035965 0.76062037 0.85911258 0.82308662 0.89156198 0.95871633\n",
      " 0.99478335 0.70325079 0.60294812 0.99999991 0.91724343 0.55545384\n",
      " 0.67745898 0.75456202 0.94604387 0.99999954 0.99999999 0.7391584\n",
      " 0.76918968 0.7312014  0.92918561 0.99999998 0.86825065 0.41743115\n",
      " 0.97379255 0.88707274 0.85483287 0.99997936 0.72540849 0.64749562\n",
      " 0.99999995 0.66482039 0.99631604 0.89895887 0.98073053 0.77546397\n",
      " 0.57073804 0.99851185 0.66891933 0.5820442  0.89695115 0.63120891\n",
      " 0.66109657 0.41653886 0.92021027 0.99999989 0.3137507  0.68907948\n",
      " 0.97602408 0.90210932 0.99999995 0.90205374 0.96809005 0.81110004\n",
      " 0.41495043 0.87938932 0.99999997 0.77324287]\n"
     ]
    }
   ],
   "source": [
    "obj = cvx.Minimize(objective)\n",
    "constraints = [0 <= gamma, gamma <= 1, S << 2*corrMatrix]\n",
    "prob = cvx.Problem(obj,constraints)\n",
    "prob.solve()\n",
    "\n",
    "print(f'Status: {prob.status}')\n",
    "print(f'Objective value: {prob.value}')\n",
    "print(f'Solution: gamma = {gamma.value}')"
   ]
  },
  {
   "cell_type": "markdown",
   "metadata": {},
   "source": [
    "### Another way to do this: \n",
    "\n",
    "#### we define the variables to be a $p$-dimensional vector rather than $m$-dimensional and impose the constraints that variables that corresponds to indices in the same group are equal"
   ]
  },
  {
   "cell_type": "code",
   "execution_count": 10,
   "metadata": {},
   "outputs": [],
   "source": [
    "gamma = cvx.Variable(p) # although in essence we only need m variables\n",
    "# define the S matrix by element-wise multiply block_corr with the vector gamma\n",
    "S = cvx.multiply(block_corr,cvx.diag(gamma))"
   ]
  },
  {
   "cell_type": "code",
   "execution_count": 11,
   "metadata": {},
   "outputs": [
    {
     "name": "stdout",
     "output_type": "stream",
     "text": [
      "42 constraints defined, expect 42 constraints\n"
     ]
    }
   ],
   "source": [
    "# enforce the \"group\" constraints that the gammas whose indices corresponds to the same group are equal\n",
    "group_constraints = []\n",
    "i = 0\n",
    "for group in cat_name_to_idx.values():\n",
    "    group_constraints += [gamma[group[0]] == gamma[group[k]] for k in range(1,len(group)) ]\n",
    "print(f'{len(group_constraints)} constraints defined, expect {4+1+3+3+1+4+2+24} constraints') # this is correct\n",
    "\n",
    "# define the constraints in the SDP\n",
    "constraints = [0<= gamma, gamma <=1, S << 2*corrMatrix]\n",
    "constraints += group_constraints"
   ]
  },
  {
   "cell_type": "code",
   "execution_count": 12,
   "metadata": {},
   "outputs": [
    {
     "name": "stdout",
     "output_type": "stream",
     "text": [
      "Status: optimal\n",
      "Objective value: 15.94751842623297\n",
      "Solution: gamma = [0.57957717 0.7649518  0.85088558 0.83702769 0.86881141 0.94343938\n",
      " 0.99340031 0.71095925 0.62221295 0.99999994 0.91847021 0.58149478\n",
      " 0.72000486 0.7887077  0.95660652 0.99999994 0.99999999 0.73910971\n",
      " 0.79316246 0.74136225 0.97998585 0.99999998 0.86589152 0.41965952\n",
      " 0.97836281 0.89553597 0.8639323  0.99609985 0.77055224 0.70050357\n",
      " 0.99999994 0.66014566 0.9999998  0.88243876 0.98667278 0.74520355\n",
      " 0.59287008 0.59287008 0.59287008 0.59287008 0.59287008 0.98791686\n",
      " 0.98791686 0.63778622 0.63778622 0.63778622 0.63778622 0.57795536\n",
      " 0.57795536 0.57795536 0.57795536 0.93713355 0.93713355 0.64779992\n",
      " 0.64779992 0.64779992 0.64779992 0.64779992 0.6845372  0.6845372\n",
      " 0.6845372  0.32930247 0.32930247 0.32930247 0.32930247 0.32930247\n",
      " 0.32930247 0.32930247 0.32930247 0.32930247 0.32930247 0.32930247\n",
      " 0.32930247 0.32930247 0.32930247 0.32930247 0.32930247 0.32930247\n",
      " 0.32930247 0.32930247 0.32930247 0.32930247 0.32930247 0.32930247\n",
      " 0.32930247 0.32930247 0.92527467 0.99999993 0.28545191 0.67184233\n",
      " 0.97907313 0.89506237 0.99999996 0.90921711 0.95597634 0.81101735\n",
      " 0.36269193 0.88055164 0.99999998 0.75930994]\n"
     ]
    }
   ],
   "source": [
    "# define the objective\n",
    "sum_fro_norm = 0\n",
    "i = 0\n",
    "for g_size in group_sizes:\n",
    "    sum_fro_norm += cvx.norm((block_corr - S)[i:i+g_size, i:i+g_size], 'fro')\n",
    "    i += g_size\n",
    "objective = cvx.Minimize(sum_fro_norm)\n",
    "# solve the problem\n",
    "prob = cvx.Problem(objective,constraints)\n",
    "prob.solve()\n",
    "\n",
    "print(f'Status: {prob.status}')\n",
    "print(f'Objective value: {prob.value}')\n",
    "print(f'Solution: gamma = {gamma.value}')"
   ]
  },
  {
   "cell_type": "code",
   "execution_count": null,
   "metadata": {},
   "outputs": [],
   "source": []
  }
 ],
 "metadata": {
  "kernelspec": {
   "display_name": "Python 3.7.10 ('clvr_impl')",
   "language": "python",
   "name": "python3"
  },
  "language_info": {
   "codemirror_mode": {
    "name": "ipython",
    "version": 3
   },
   "file_extension": ".py",
   "mimetype": "text/x-python",
   "name": "python",
   "nbconvert_exporter": "python",
   "pygments_lexer": "ipython3",
   "version": "3.7.10"
  },
  "orig_nbformat": 4,
  "vscode": {
   "interpreter": {
    "hash": "39e10f6c2c74eeef8b23102d9b5ca5591bb7c2a5e4e59e0ec9b3ef9baff1f044"
   }
  }
 },
 "nbformat": 4,
 "nbformat_minor": 2
}
